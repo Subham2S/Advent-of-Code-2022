{
 "cells": [
  {
   "cell_type": "code",
   "execution_count": 1,
   "id": "423eadad",
   "metadata": {
    "ExecuteTime": {
     "end_time": "2022-12-14T16:17:23.521095Z",
     "start_time": "2022-12-14T16:17:22.934775Z"
    }
   },
   "outputs": [
    {
     "name": "stdout",
     "output_type": "stream",
     "text": [
      "88.0\n"
     ]
    }
   ],
   "source": [
    "import pandas as pd\n",
    "#import sys\n",
    "import numpy as np\n",
    "# np.set_printoptions(threshold=sys.maxsize)\n",
    "infile = '92.txt'\n",
    "data = open(infile).read().strip()\n",
    "lines = [[x.split()[0], int(x.split()[1])] for x in data.split('\\n')]\n",
    "\n",
    "n = sum([x[1] for x in lines])\n",
    "hgrid = np.zeros([2*n+1, 2*n+1])\n",
    "tgrid = np.zeros([2*n+1, 2*n+1])\n",
    "\n",
    "# PART 1 [H T]\n",
    "# Initializing the starting Position :\n",
    "hi, hj, ti, tj = n, n, n, n\n",
    "hgrid[hi, hj], tgrid[ti, tj] = 1, 1\n",
    "\n",
    "\n",
    "def tail_loc(h1, h2, t1, t2, s):\n",
    "    if s == 'R':\n",
    "        if (((h1 == t1) & (h2 == t2)) | ((h1 == t1) & (h2 == t2 - 1)) |\n",
    "            (((h1 == t1 + 1) | (h1 == t1 - 1)) & (h2 == t2)) |\n",
    "                (((h1 == t1 + 1) | (h1 == t1 - 1)) & (h2 == t2 - 1))):\n",
    "            h2 += 1\n",
    "        elif ((h1 == t1) & (h2 == t2 + 1)):\n",
    "            h2 += 1\n",
    "            t2 += 1\n",
    "        else:\n",
    "            t1, t2 = h1, h2\n",
    "            h2 += 1\n",
    "    elif s == 'L':\n",
    "        if (((h1 == t1) & (h2 == t2)) | ((h1 == t1) & (h2 == t2 + 1)) |\n",
    "            (((h1 == t1 + 1) | (h1 == t1 - 1)) & (h2 == t2)) |\n",
    "                (((h1 == t1 + 1) | (h1 == t1 - 1)) & (h2 == t2 + 1))):\n",
    "            h2 -= 1\n",
    "        elif ((h1 == t1) & (h2 == t2 - 1)):\n",
    "            h2 -= 1\n",
    "            t2 -= 1\n",
    "        else:\n",
    "            t1, t2 = h1, h2\n",
    "            h2 -= 1\n",
    "    elif s == 'U':\n",
    "        if (((h1 == t1) & (h2 == t2)) | ((h2 == t2) & (h1 == t1 + 1)) |\n",
    "            (((h2 == t2 + 1) | (h2 == t2 - 1)) & (h1 == t1)) |\n",
    "                (((h2 == t2 + 1) | (h2 == t2 - 1)) & (h1 == t1 + 1))):\n",
    "            h1 -= 1\n",
    "        elif ((h2 == t2) & (h1 == t1 - 1)):\n",
    "            h1 -= 1\n",
    "            t1 -= 1\n",
    "        else:\n",
    "            t1, t2 = h1, h2\n",
    "            h1 -= 1\n",
    "    else:\n",
    "        if (((h1 == t1) & (h2 == t2)) | ((h2 == t2) & (h1 == t1 - 1)) |\n",
    "            (((h2 == t2 + 1) | (h2 == t2 - 1)) & (h1 == t1)) |\n",
    "                (((h2 == t2 + 1) | (h2 == t2 - 1)) & (h1 == t1 - 1))):\n",
    "            h1 += 1\n",
    "        elif ((h2 == t2) & (h1 == t1 + 1)):\n",
    "            h1 += 1\n",
    "            t1 += 1\n",
    "        else:\n",
    "            t1, t2 = h1, h2\n",
    "            h1 += 1\n",
    "    #print(s, h1, h2, t1, t2)\n",
    "    return h1, h2, t1, t2\n",
    "\n",
    "\n",
    "def save_array(x, y):\n",
    "    x = x[~np.all(x == 0, axis=1)]\n",
    "    x = x[:, np.any(x, axis=0)]\n",
    "    pd.DataFrame(x).to_csv(f'./{y}.csv')\n",
    "\n",
    "\n",
    "for line in lines:\n",
    "    s_ = line[0]\n",
    "    # print(line)\n",
    "    i = 1\n",
    "    while i <= line[1]:\n",
    "        hi, hj, ti, tj = tail_loc(hi, hj, ti, tj, s_)\n",
    "        hgrid[hi, hj] = 1\n",
    "        tgrid[ti, tj] = 1\n",
    "        i += 1\n",
    "\n",
    "# Save into CSV files:\n",
    "save_array(hgrid, 'h')\n",
    "save_array(tgrid, 't')\n",
    "print(np.sum(tgrid))\n"
   ]
  },
  {
   "cell_type": "code",
   "execution_count": 2,
   "id": "bb492c5a",
   "metadata": {
    "ExecuteTime": {
     "end_time": "2022-12-14T16:20:22.194180Z",
     "start_time": "2022-12-14T16:20:22.163044Z"
    }
   },
   "outputs": [
    {
     "data": {
      "text/plain": [
       "{(1, 1): ['D', 'R'],\n",
       " (1, -1): ['D', 'L'],\n",
       " (-1, 1): ['U', 'R'],\n",
       " (-1, -1): ['U', 'L']}"
      ]
     },
     "execution_count": 2,
     "metadata": {},
     "output_type": "execute_result"
    }
   ],
   "source": [
    "diff_dict = {\n",
    "    ( 1,  1 ): ['D', 'R'],\n",
    "    ( 1, -1 ): ['D', 'L'],\n",
    "    (-1,  1 ): ['U', 'R'],\n",
    "    (-1, -1 ): ['U', 'L']\n",
    "}\n",
    "hi, hj = n, n\n",
    "i1, j1 = n, n\n",
    "i2, j2 = n, n\n",
    "i3, j3 = n, n\n",
    "i4, j4 = n, n\n",
    "i5, j5 = n, n\n",
    "i6, j6 = n, n\n",
    "i7, j7 = n, n\n",
    "i8, j8 = n, n\n",
    "i9, j9 = n, n"
   ]
  },
  {
   "cell_type": "code",
   "execution_count": 3,
   "id": "e26a533d",
   "metadata": {
    "ExecuteTime": {
     "end_time": "2022-12-14T16:28:43.915595Z",
     "start_time": "2022-12-14T16:28:43.884399Z"
    }
   },
   "outputs": [],
   "source": []
  },
  {
   "cell_type": "code",
   "execution_count": null,
   "id": "d4e9db60",
   "metadata": {},
   "outputs": [],
   "source": [
    "# PART 2 [H 1 2 3 4 5 6 7 8 9]\n",
    "hgrid = np.zeros([2*n+1, 2*n+1])\n",
    "tgrid = np.zeros([2*n+1, 2*n+1])\n",
    "# Initializing the starting Position :\n",
    "hi, hj, ti, tj = n, n, n, n\n",
    "hgrid[hi, hj], tgrid[ti, tj] = 1, 1\n",
    "\n",
    "def tail_loc2(h1, h2, t1, t2, s):\n",
    "    if s == 'R':\n",
    "        if (((h1 == t1) & (h2 == t2)) | ((h1 == t1) & (h2 == t2 - 1)) |\n",
    "            (((h1 == t1 + 1) | (h1 == t1 - 1)) & (h2 == t2)) |\n",
    "                (((h1 == t1 + 1) | (h1 == t1 - 1)) & (h2 == t2 - 1))):\n",
    "            h2 += 1\n",
    "        elif ((h1 == t1) & (h2 == t2 + 1)):\n",
    "            h2 += 1\n",
    "            t2 += 1\n",
    "        else:\n",
    "            t1, t2 = h1, h2\n",
    "            h2 += 1\n",
    "    elif s == 'L':\n",
    "        if (((h1 == t1) & (h2 == t2)) | ((h1 == t1) & (h2 == t2 + 1)) |\n",
    "            (((h1 == t1 + 1) | (h1 == t1 - 1)) & (h2 == t2)) |\n",
    "                (((h1 == t1 + 1) | (h1 == t1 - 1)) & (h2 == t2 + 1))):\n",
    "            h2 -= 1\n",
    "        elif ((h1 == t1) & (h2 == t2 - 1)):\n",
    "            h2 -= 1\n",
    "            t2 -= 1\n",
    "        else:\n",
    "            t1, t2 = h1, h2\n",
    "            h2 -= 1\n",
    "    elif s == 'U':\n",
    "        if (((h1 == t1) & (h2 == t2)) | ((h2 == t2) & (h1 == t1 + 1)) |\n",
    "            (((h2 == t2 + 1) | (h2 == t2 - 1)) & (h1 == t1)) |\n",
    "                (((h2 == t2 + 1) | (h2 == t2 - 1)) & (h1 == t1 + 1))):\n",
    "            h1 -= 1\n",
    "        elif ((h2 == t2) & (h1 == t1 - 1)):\n",
    "            h1 -= 1\n",
    "            t1 -= 1\n",
    "        else:\n",
    "            t1, t2 = h1, h2\n",
    "            h1 -= 1\n",
    "    else:\n",
    "        if (((h1 == t1) & (h2 == t2)) | ((h2 == t2) & (h1 == t1 - 1)) |\n",
    "            (((h2 == t2 + 1) | (h2 == t2 - 1)) & (h1 == t1)) |\n",
    "                (((h2 == t2 + 1) | (h2 == t2 - 1)) & (h1 == t1 - 1))):\n",
    "            h1 += 1\n",
    "        elif ((h2 == t2) & (h1 == t1 + 1)):\n",
    "            h1 += 1\n",
    "            t1 += 1\n",
    "        else:\n",
    "            t1, t2 = h1, h2\n",
    "            h1 += 1\n",
    "    #print(s, h1, h2, t1, t2)\n",
    "    return h1, h2, t1, t2\n",
    "\n",
    "\n",
    "for line in lines:\n",
    "    s_ = line[0]\n",
    "    # print(line)\n",
    "    i = 1\n",
    "    while i <= line[1]:\n",
    "        ti_, tj_ = ti, tj\n",
    "        hi, hj, ti, tj = tail_loc(hi, hj, ti, tj, s_)\n",
    "        s1 = 'Dia' if (abs(ti-ti_) + abs(tj-tj_))==2 else \"\"\n",
    "        if s1=='Dia':\n",
    "            for j in range(2):\n",
    "                hi, hj, ti, tj = tail_loc(hi, hj, ti, tj, s_)\n",
    "        hi, hj, ti, tj = tail_loc(hi, hj, ti, tj, s_)\n",
    "        hgrid[hi, hj] = 1\n",
    "        tgrid[ti, tj] = 1\n",
    "        i += 1\n",
    "\n",
    "# Save into CSV files:\n",
    "save_array(tgrid, 't')\n",
    "print(np.sum(tgrid))"
   ]
  }
 ],
 "metadata": {
  "kernelspec": {
   "display_name": "Python 3 (ipykernel)",
   "language": "python",
   "name": "python3"
  },
  "language_info": {
   "codemirror_mode": {
    "name": "ipython",
    "version": 3
   },
   "file_extension": ".py",
   "mimetype": "text/x-python",
   "name": "python",
   "nbconvert_exporter": "python",
   "pygments_lexer": "ipython3",
   "version": "3.9.12"
  },
  "latex_envs": {
   "LaTeX_envs_menu_present": true,
   "autoclose": false,
   "autocomplete": true,
   "bibliofile": "biblio.bib",
   "cite_by": "apalike",
   "current_citInitial": 1,
   "eqLabelWithNumbers": true,
   "eqNumInitial": 1,
   "hotkeys": {
    "equation": "Ctrl-E",
    "itemize": "Ctrl-I"
   },
   "labels_anchors": false,
   "latex_user_defs": false,
   "report_style_numbering": false,
   "user_envs_cfg": false
  },
  "toc": {
   "base_numbering": 1,
   "nav_menu": {},
   "number_sections": true,
   "sideBar": true,
   "skip_h1_title": false,
   "title_cell": "Table of Contents",
   "title_sidebar": "Contents",
   "toc_cell": false,
   "toc_position": {},
   "toc_section_display": true,
   "toc_window_display": false
  },
  "varInspector": {
   "cols": {
    "lenName": 16,
    "lenType": 16,
    "lenVar": 40
   },
   "kernels_config": {
    "python": {
     "delete_cmd_postfix": "",
     "delete_cmd_prefix": "del ",
     "library": "var_list.py",
     "varRefreshCmd": "print(var_dic_list())"
    },
    "r": {
     "delete_cmd_postfix": ") ",
     "delete_cmd_prefix": "rm(",
     "library": "var_list.r",
     "varRefreshCmd": "cat(var_dic_list()) "
    }
   },
   "types_to_exclude": [
    "module",
    "function",
    "builtin_function_or_method",
    "instance",
    "_Feature"
   ],
   "window_display": false
  }
 },
 "nbformat": 4,
 "nbformat_minor": 5
}
